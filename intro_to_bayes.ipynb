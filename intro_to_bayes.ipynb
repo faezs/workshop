{
 "cells": [
  {
   "cell_type": "markdown",
   "metadata": {},
   "source": [
    "# Motivation: Why Machine Learning\n",
    "\n",
    "\n",
    "## Two Views of Machine Learning\n",
    "\n",
    "> + Machine Learning seeks to **learn models of data**: define a **space of possible\n",
    "models; learn the parameters and structure of the models from data**; make\n",
    "predictions and decisions\n",
    "+ Machine Learning is a **toolbox of methods for processing data**: feed the data\n",
    "into one of many possible methods; choose methods that have **good theoretical\n",
    "or empirical performance**; make predictions and decisions\n",
    "\n",
    ">   _Zoubin Ghahramani, MLSS 2012_"
   ]
  },
  {
   "cell_type": "markdown",
   "metadata": {},
   "source": [
    "## Data, Data; Everywhere! \n",
    "+ Social Networks \n",
    "+ Cloud-Age Businesses\n",
    "+ LHC & SETI & Human Connectome Project\n",
    "\n",
    "### Data is...\n",
    "#### Messy\n",
    "<img src=\"messy.png\">\n",
    "#### Noisy\n",
    "<img src=\"noisy.png\">\n",
    "#### Yuge\n",
    "<img src=\"yuge.png\">"
   ]
  },
  {
   "cell_type": "markdown",
   "metadata": {},
   "source": [
    "## What are Models?\n",
    "Represent the key aspects of the real world in mathematics.\n",
    "#### Examples:\n",
    "+ Odds Calculators for Sports Betting\n",
    "+ Homo Economicus: The Rational Human\n",
    "+ Logistic Population Growth Model\n",
    "+ Two-body Gravitational System\n",
    "\n",
    "#### Modern Requirements:\n",
    "Good Models:\n",
    "+ represent uncertainty in their structure and parameters \n",
    "+ adapt to the data and the problem statement automatically\n",
    "+ are robust against critical failure modes\n",
    "+ are capable of scaling to yuge data\n",
    "\n",
    "#### Commonalities:\n",
    "+ Data: Lives in a Space and is gathered from the real world\n",
    "+ Predictions and Decisions: (if x=k, y=?) or (if x_0 = b, x_t = ?)\n",
    "+ Magic Components:\n",
    "  - Learning, Parameters and Structure \n",
    "    + (structure: DAG, Tree, Chain) \n",
    "    + (Learning: Gradient Descent, Bayes Rule, (What do SVMs use? What do Random Forests use?)) \n",
    "    + (Parameters: Matrices smashing into each other, Tree Nodes, Vectorspace Kernels)\n",
    "  - Theoretical and Empirical Performance \n",
    "    + theoretical: Asymptotic Bounds \n",
    "    + empirical: Past Error Rates"
   ]
  },
  {
   "cell_type": "markdown",
   "metadata": {},
   "source": [
    "## Problems, Problems; Everywhere! \n",
    "\n",
    "### What Problems is ML good at?\n",
    "+ Youtube Recommendations!\n",
    "+ Ad Clicks!\n",
    "+ Auto-Correct!\n",
    "+ Go & Chess & Pong!\n",
    "+ Traffic Jams!\n",
    "+ Cancer Diagnoses!\n",
    "\n",
    "\n",
    "### What Problems does ML struggle with?\n",
    "+ Legal Judgements\n",
    "\n",
    "### From iRobot to MyRobot\n",
    "> Probability theory is nothing but common sense reduced to calculation.\n",
    "> _Laplace, 1819_\n",
    "\n",
    "\n",
    "#### The Rules of Reasonable Thought:\n",
    "_HT: \"Probability Theory: The Logic of Science\" by E.T Jaynes_\n",
    "\n",
    "##### Logical Operations:\n",
    "+ Conjunction (AND)\n",
    "    **A . B**    \n",
    "+ Disjunction (OR)\n",
    "    **A + B**\n",
    "+ Negation (NOT)\n",
    "    **~A**\n",
    "+ Implication (IF THEN)\n",
    "    **=>**\n",
    "\n",
    "\n",
    "+ Degrees of plausibility are represented by real numbers.\n",
    "\n",
    "+ Qualitative correspondence with common sense:\n",
    "  - Conditional Probability: Statement A is only as plausabile as the evidence B makes it\n",
    "    + (A | B)\n",
    "  - Plausability relationships between statements can take many form\n",
    "    + (A | BC) or (A + B|CD )\n",
    "  - Metric Comparability\n",
    "    + (A | B) > (C | B)\n",
    "  - Probability of Evidence changing changes things:\n",
    "    + (A | C_1) > (A | C_0) AND (B | A C_1) == (B | A C_0) =>\n",
    "    (A B | C_1) > (A B | C_0)\n",
    "    AND\n",
    "    (~A | C_1) < (~A | C_0)\n",
    "    \n",
    "+ **Consistent** Reasoning:\n",
    "  - If a conclusion can be reasoned out in more than one way, \n",
    "  then every possible way must lead to the same result.\n",
    "  - A conclusion must be based on **all** of the evidence that is\n",
    "  relevant to a question. Arbitrarily ignoring some of\n",
    "  the information leads to biased, ideological conclusions.\n",
    "  - Equivalent **states of knowledge** are represented by equivalent plausibility assignments. \n",
    "  That is, if in two problems a robot’s state of knowledge is the same (except perhaps for \n",
    "  the labeling of the propositions), then it must assign the same \n",
    "  plausibilities in both."
   ]
  },
  {
   "cell_type": "markdown",
   "metadata": {},
   "source": [
    "## Bayes Theorem\n",
    "\n",
    "$$ P(A \\mid B) = \\frac{P(B \\mid A) \\, P(A)}{P(B)} $$\n",
    "\n",
    "$$ Prior = P(A) $$\n",
    "\n",
    "$$ Likelihood = \\frac{P(B \\mid A)}{P(B)} $$\n"
   ]
  },
  {
   "cell_type": "markdown",
   "metadata": {},
   "source": [
    "#### Components of Understanding \n",
    "+ Representation\n",
    "+ Visualization\n",
    "+ Modelling of Characteristics and Relationships"
   ]
  },
  {
   "cell_type": "code",
   "execution_count": null,
   "metadata": {},
   "outputs": [],
   "source": [
    "import tensorflow as tf"
   ]
  },
  {
   "cell_type": "code",
   "execution_count": null,
   "metadata": {},
   "outputs": [],
   "source": [
    "def create_probabilty_distribution():\n",
    "    \n",
    "    return"
   ]
  }
 ],
 "metadata": {
  "kernelspec": {
   "display_name": "Python 3",
   "language": "python",
   "name": "python3"
  },
  "language_info": {
   "codemirror_mode": {
    "name": "ipython",
    "version": 3
   },
   "file_extension": ".py",
   "mimetype": "text/x-python",
   "name": "python",
   "nbconvert_exporter": "python",
   "pygments_lexer": "ipython3",
   "version": "3.6.0"
  }
 },
 "nbformat": 4,
 "nbformat_minor": 2
}
